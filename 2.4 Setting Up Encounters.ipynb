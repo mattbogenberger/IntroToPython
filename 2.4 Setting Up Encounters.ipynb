{
 "cells": [
  {
   "cell_type": "markdown",
   "metadata": {},
   "source": [
    "# Setting Up Encounters\n",
    "\n",
    "Now that we have some player data, we can give users something to do. Same as with players, we'll start by creating some backend logic before creating a \"UI\" for the bot.\n",
    "\n",
    "To start with, we'll make a Mob class for the player to fight. In addition to stat properties, we'll also start filling out methods- it can attack, take damage, and check if it's alive. In order to add a bit of randomness, we'll make attack damage a range using a random integer."
   ]
  },
  {
   "cell_type": "code",
   "execution_count": null,
   "metadata": {},
   "outputs": [],
   "source": [
    "from random import randrange\n",
    "\n",
    "\n",
    "class Mob:\n",
    "    def __init__(self):\n",
    "        self.current_hp = 10\n",
    "        self.attack = 1\n",
    "        self.xp = 2\n",
    "\n",
    "    def do_attack(self):\n",
    "        return self.attack + randrange(2)\n",
    "\n",
    "    def take_damage(self, damage):\n",
    "        self.current_hp -= damage\n",
    "        return self.is_alive()\n",
    "\n",
    "    def is_alive(self):\n",
    "        return self.current_hp > 0"
   ]
  },
  {
   "cell_type": "markdown",
   "metadata": {},
   "source": [
    "Setting up the player is going to look very similar. We'll give the damage a bigger range because in this scenario we want the player to be able to win easily. If we were to refactor, we would probably create a base class with these properties and methods, and then have mobs and players inherit from that base class."
   ]
  },
  {
   "cell_type": "code",
   "execution_count": null,
   "metadata": {},
   "outputs": [],
   "source": [
    "from random import randrange\n",
    "\n",
    "\n",
    "class Player:\n",
    "    def __init__(self, id, xp=0, attack=0, hp=0):\n",
    "        self.id = id\n",
    "        self.xp = xp\n",
    "        self.attack = attack\n",
    "        self.max_hp = hp\n",
    "        self.current_hp = hp\n",
    "\n",
    "    def do_attack(self):\n",
    "        return self.attack + randrange(4)\n",
    "\n",
    "    def take_damage(self, damage):\n",
    "        self.current_hp -= damage\n",
    "        return self.is_alive()\n",
    "\n",
    "    def is_alive(self):\n",
    "        return self.current_hp > 0\n"
   ]
  },
  {
   "cell_type": "markdown",
   "metadata": {},
   "source": [
    "Lastly, we''l create some classes around running the actual encounter. This will have three elements: and enum (something that allows us to create a group of values like a list of colors), an ActionResult class that holds our result type and text to send to the user, and the encounter class itself in order to hold the logic of actually running the encounter.\n",
    "\n",
    "Because the `takeDamage()` function returns a boolean that denotes whether or not an entity survived, we can use that as a way to check the results of the action as well as changing the values, but for now we'll seperate the steps to make it clearer."
   ]
  },
  {
   "cell_type": "code",
   "execution_count": null,
   "metadata": {},
   "outputs": [],
   "source": [
    "from mob import Mob\n",
    "from player import Player\n",
    "from enum import Enum\n",
    "\n",
    "\n",
    "class Result(Enum):\n",
    "    CONTINUE = 1\n",
    "    WIN = 2\n",
    "    LOSE = 3\n",
    "\n",
    "\n",
    "class ActionResult:\n",
    "\n",
    "    def __init__(self, result: Results, text: str):\n",
    "        self.result = result\n",
    "        self.text = text\n",
    "\n",
    "\n",
    "class Encounter:\n",
    "    def __init__(self, player: Player):\n",
    "        self.id = 0\n",
    "        self.mob = Mob()\n",
    "        self.player = player\n",
    "\n",
    "    def playerAction(self):\n",
    "        damage = self.player.do_attack()\n",
    "        self.mob.take_damage(damage)\n",
    "        mob_result = self.mob.take_damage(damage)\n",
    "        if(mob_result):\n",
    "            mob_damage = self.mob.do_attack()\n",
    "            player_result = self.player.take_damage(mobDamage)\n",
    "            if(player_result):\n",
    "                return ActionResult(Result.CONTINUE, f\"Player attacked for {damage}. Mob attacked with {mobDamage}.\")\n",
    "            else:\n",
    "                return ActionResult(Result.LOSE, f\"Player attacked for {damage}. Mob attacked with {mobDamage}. Player fainted.\")\n",
    "        else:\n",
    "            return ActionResult(Result.WIN, f\"Player attacked for {damage}. Mob fainted.\")\n"
   ]
  },
  {
   "cell_type": "markdown",
   "metadata": {},
   "source": [
    "Next we need to update our Game class. In addition to a group of players, we need to keep track of current encounters. We'll also add methods to create new encounters, allow players to take attack actions and to complete an existing encounter."
   ]
  },
  {
   "cell_type": "code",
   "execution_count": null,
   "metadata": {},
   "outputs": [],
   "source": [
    "from player import Player\n",
    "from encounter import Encounter, Result\n",
    "\n",
    "\n",
    "class Game:\n",
    "    def __init__(self):\n",
    "        self.players = {}\n",
    "        self.encounters = {}\n",
    "\n",
    "    def getPlayer(self, playerId):\n",
    "        player = self.players.get(playerId)\n",
    "        if player:\n",
    "            return player\n",
    "        else:\n",
    "            self.players[playerId] = Player(playerId, 0, 2, 10)\n",
    "            return self.players[playerId]\n",
    "\n",
    "    def createEncounter(self, playerId):\n",
    "        encounter = self.encounters.get(playerId)\n",
    "        if encounter:\n",
    "            return \"Encounter already running!\"\n",
    "        else:\n",
    "            player = self.getPlayer(playerId)\n",
    "            self.encounters[playerId] = Encounter(player)\n",
    "            return \"Encounter created!\"\n",
    "\n",
    "    def playerAction(self, playerId):\n",
    "        encounter = self.encounters.get(playerId)\n",
    "        if encounter is None:\n",
    "            self.createEncounter(playerId)\n",
    "\n",
    "        result = encounter.playerAction()\n",
    "        self.players[playerId] = encounter.player\n",
    "\n",
    "        if result.result == Result.CONTINUE:\n",
    "            self.encounters[playerId] = encounter\n",
    "        else:\n",
    "            self.completeEncounter(playerId)\n",
    "\n",
    "        return result.text\n",
    "\n",
    "    def completeEncounter(self, playerId):\n",
    "        encounter = self.encounters.get(playerId)\n",
    "        if encounter is not None:\n",
    "            del self.encounters[playerId]"
   ]
  },
  {
   "cell_type": "markdown",
   "metadata": {},
   "source": [
    "The last piece is to add all this to the bot. "
   ]
  },
  {
   "cell_type": "code",
   "execution_count": null,
   "metadata": {},
   "outputs": [],
   "source": [
    "@client.command(\n",
    "    name=\"attack\",\n",
    "    description=\"Attack!!!!!!\",\n",
    "    scope=GUILD,\n",
    ")\n",
    "async def player_action(ctx: interactions.CommandContext):\n",
    "    result = game.playerAction(str(ctx.member.id))\n",
    "    await ctx.send(result)\n",
    "\n",
    "\n",
    "@client.command(\n",
    "    name=\"run\",\n",
    "    description=\"Run away\",\n",
    "    scope=GUILD,\n",
    ")\n",
    "async def complete_encounter(ctx: interactions.CommandContext):\n",
    "    result = game.completeEncounter(str(ctx.member.id))\n",
    "    await ctx.send(result)"
   ]
  }
 ],
 "metadata": {
  "language_info": {
   "name": "python"
  },
  "orig_nbformat": 4
 },
 "nbformat": 4,
 "nbformat_minor": 2
}
