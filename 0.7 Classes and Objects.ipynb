{
 "cells": [
  {
   "cell_type": "markdown",
   "metadata": {},
   "source": [
    "# Classes and Objects\n",
    "\n",
    "We learned that functions allow you to bundle groups of code together so that they can be used together. Classes are a larger grouping of code that can contain multiple functions, refurred to as methods, and related data, called attributes.\n",
    "\n",
    "One way to think of objects is that they are kind of like a noun. When you describe a cat, it has properties like color, name, breed, or age. They also can do certain things like walk, jump, purr, or eat.\n",
    "\n",
    "## Classes\n",
    "\n",
    "A class specifically refers to the definition of the thing we want to code. We use the `class` keyword and indent everything after that which is part of the class."
   ]
  },
  {
   "cell_type": "code",
   "execution_count": null,
   "metadata": {},
   "outputs": [],
   "source": [
    "class Cat:\n",
    "    name = \"Pumpkin\""
   ]
  },
  {
   "cell_type": "markdown",
   "metadata": {},
   "source": [
    "Setting properties like this isn't very flexible though, since every cat we work with would always be called Pumpkin. At the beginning of each class definition, we can use a special function named `__init__()` in order to set property values what you use the class."
   ]
  },
  {
   "cell_type": "code",
   "execution_count": null,
   "metadata": {},
   "outputs": [],
   "source": [
    "class Cat:\n",
    "    def __init__(self, name):\n",
    "        self.name = name"
   ]
  },
  {
   "cell_type": "markdown",
   "metadata": {},
   "source": [
    "The first parameter in any function contained in the class is a reference to the class itself- it is how we access properties in the class from within the method. Some languages have similar concepts, like Javascript `this`.\n",
    "\n",
    "## Objects\n",
    "\n",
    "A class defines what something looks like, whereas an object defines a specific instance of a class. So a class might define what a cat is, and then we create one or more objects based on that definition to represent individual cats.\n",
    "\n",
    "We use dot syntax to access the properties and methods in an object"
   ]
  },
  {
   "cell_type": "code",
   "execution_count": null,
   "metadata": {},
   "outputs": [],
   "source": [
    "class Cat: \n",
    "    def __init__(self, name, color):\n",
    "        self.name = name\n",
    "        self.color = color\n",
    "    \n",
    "    def purr(s):\n",
    "        print(\"purr\")\n",
    "\n",
    "spot = Cat(\"Spot\", \"orange\")\n",
    "\n",
    "print(spot.name)\n",
    "\n",
    "spot.purr()"
   ]
  },
  {
   "cell_type": "markdown",
   "metadata": {},
   "source": [
    "## Inheritance\n",
    "\n",
    "Inheritance is a concept in Object Oriented programing where one class definition can \"inherit\" properties and methods from another. This allows us to reuse code for classes that have a lot in common but need to have some parts that are different. In order to define inheritance, pass the parent class name into the child class definition.\n",
    "\n",
    "### Multiple INheritance\n",
    "\n",
    "Python allows one class to inherit from multiple parent classes, as well as things like chaining multiple levels of inheritance. This sort of thing can get messy though, so be very careful when designing your system to avoid this where possible."
   ]
  },
  {
   "cell_type": "code",
   "execution_count": null,
   "metadata": {},
   "outputs": [],
   "source": [
    "class Animal:\n",
    "    def __init__(self, name, color):\n",
    "        self.name = name\n",
    "        self.color= color\n",
    "\n",
    "class Cat(Animal):\n",
    "    def purr(s):\n",
    "        print(\"purr\")\n",
    "\n",
    "class Dog(Animal):\n",
    "    def wag(s):\n",
    "        print(\"Happy to see you!\")\n",
    "\n",
    "spot = Cat(\"Spot\", \"orange\")\n",
    "print(spot.color)\n",
    "spot.purr()\n",
    "\n",
    "#if we run this line it will throw an error\n",
    "# spot.wag()"
   ]
  },
  {
   "cell_type": "markdown",
   "metadata": {},
   "source": [
    "## Private Methods/Properties\n",
    "\n",
    "Sometimes we'll have parts of a class that we want to keep inside the class- they are useful for things like code organization, but we don't want other parts of the code to be able to access them. These are known as private or protected methods and properties (protected means accessible to child classes, private is only available to that class).\n",
    "\n",
    "Python doesn't have allow things to be fully private, but we can indicate that something should be considered private by using an underscore at the beginning of the name."
   ]
  },
  {
   "cell_type": "code",
   "execution_count": null,
   "metadata": {},
   "outputs": [],
   "source": [
    "class Cat:\n",
    "    _age = 0\n",
    "\n",
    "    def __init__(self, name):\n",
    "        self.name = name\n",
    "\n",
    "    def get_age(s):\n",
    "        print(s._age)\n",
    "    \n",
    "    def birthday(s):\n",
    "        s._age = s._age + 1\n",
    "\n",
    "spot = Cat(\"Spot\")\n",
    "\n",
    "#both of these work, but we should always use the first one\n",
    "spot.get_age()\n",
    "\n",
    "print(spot._age)\n",
    "    "
   ]
  },
  {
   "cell_type": "markdown",
   "metadata": {},
   "source": [
    "## Static Properties and Methods\n",
    "\n",
    "One last concept to keep in mind with classes and objects is static properties and methods. Many of these examples had a `purr()` method that didn't depend on anything that was specific to an instance of an object. While normally we would make a copy of this method for each object we created in memory, we can instead declare it as a static method. This means that no matter how many cat objects we create, they will all share the same `purr()` method stored in memory.\n",
    "\n",
    "### Static Properties\n",
    "\n",
    "Static properties in Python are fairly simple to define. We simply set the value without using the `self` prefix as part of the class definition. They are accessed by using either the object or class name as the prefix."
   ]
  },
  {
   "cell_type": "code",
   "execution_count": null,
   "metadata": {},
   "outputs": [],
   "source": [
    "class Cat:\n",
    "    action = \"purr\"\n",
    "\n",
    "    def __init__(self, name):\n",
    "        self.name = name\n",
    "\n",
    "    def purr(s):\n",
    "        print(Cat.action)\n",
    "\n",
    "spot = Cat(\"Spot\")\n",
    "\n",
    "spot.purr()\n",
    "print(spot.action)"
   ]
  },
  {
   "cell_type": "markdown",
   "metadata": {},
   "source": [
    "### Static Methods\n",
    "\n",
    "In python, we use something called a decorator to mark static methods. Just as will properties, all copies of a class share that same method."
   ]
  },
  {
   "cell_type": "code",
   "execution_count": null,
   "metadata": {},
   "outputs": [],
   "source": [
    "class Cat: \n",
    "    def __init__(self, name, color):\n",
    "        self.name = name\n",
    "        self.color = color\n",
    "    \n",
    "    @staticmethod\n",
    "    def purr(s):\n",
    "        print(\"purr\")\n",
    "\n",
    "spot = Cat(\"Spot\", \"orange\")\n",
    "\n",
    "print(spot.name)\n",
    "\n",
    "spot.purr()"
   ]
  },
  {
   "cell_type": "markdown",
   "metadata": {},
   "source": [
    "### Class Methods\n",
    "\n",
    "Something that is a bit different than many other languages is that, in addition to static methods. These are a little different since they take a class as the first argument instead of an object instance and thus can alter the static properties of the class."
   ]
  },
  {
   "cell_type": "code",
   "execution_count": null,
   "metadata": {},
   "outputs": [],
   "source": [
    "class Cat:\n",
    "    action = \"purr\"\n",
    "\n",
    "    def __init__(self, name):\n",
    "        self.name = name\n",
    "\n",
    "    @classmethod\n",
    "    def purr(c):\n",
    "        print(c.action)\n",
    "\n",
    "spot = Cat(\"Spot\")\n",
    "\n",
    "#even if we override the static property for this instance of a cat, \n",
    "# we still get the class value when we call the class method\n",
    "spot.action = \"wag\"\n",
    "\n",
    "spot.purr()"
   ]
  }
 ],
 "metadata": {
  "interpreter": {
   "hash": "63fd5069d213b44bf678585dea6b12cceca9941eaf7f819626cde1f2670de90d"
  },
  "kernelspec": {
   "display_name": "Python 3.9.6 64-bit",
   "language": "python",
   "name": "python3"
  },
  "language_info": {
   "codemirror_mode": {
    "name": "ipython",
    "version": 3
   },
   "file_extension": ".py",
   "mimetype": "text/x-python",
   "name": "python",
   "nbconvert_exporter": "python",
   "pygments_lexer": "ipython3",
   "version": "3.9.6"
  },
  "orig_nbformat": 4
 },
 "nbformat": 4,
 "nbformat_minor": 2
}
