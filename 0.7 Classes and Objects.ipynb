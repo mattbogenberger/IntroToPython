{
 "cells": [
  {
   "cell_type": "markdown",
   "metadata": {},
   "source": [
    "# Classes\n",
    "\n",
    "We learned that functions allow you to bundle groups of code together so that they can be used together. Classes are a larger grouping of code that can contain multiple functions, refurred to as methods, and related data, called attributes.\n",
    "\n",
    "One way to think of objects is that they are kind of like a noun. "
   ]
  }
 ],
 "metadata": {
  "language_info": {
   "name": "python"
  },
  "orig_nbformat": 4
 },
 "nbformat": 4,
 "nbformat_minor": 2
}
