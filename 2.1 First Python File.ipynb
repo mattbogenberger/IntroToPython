{
 "cells": [
  {
   "cell_type": "markdown",
   "metadata": {},
   "source": [
    "# First Python File\n",
    "\n",
    "To start with we'll make a file called `bot.py`. This is the one we'll run when we want to start the bot.\n",
    "\n",
    "At the top of the file, we need to tell the python interpretter to include some of the code we installed before."
   ]
  },
  {
   "cell_type": "code",
   "execution_count": null,
   "metadata": {},
   "outputs": [],
   "source": [
    "# bot.py\n",
    "import os\n",
    "\n",
    "import interactions\n",
    "from dotenv import load_dotenv"
   ]
  },
  {
   "cell_type": "markdown",
   "metadata": {},
   "source": [
    "There are three things we are bringing in to help us startup this bot.\n",
    "\n",
    "1. `os` is part of the python standard set of libraries and lets us interact with the file system.\n",
    "2. `interactions` is a library for interacting with Discord so we can only focus on the code specific to our bot. \n",
    "3. `dotenv` allows us to interact more easily with our `.env` file so we can load settings from there.\n",
    "\n",
    "## Setup Connection\n",
    "\n",
    "There are a couple things we need to do to setup our bot. The first is to load in our `.env` file and specifically our Discord key. We'll also create a new Discord client for talking to the Discord API."
   ]
  },
  {
   "cell_type": "code",
   "execution_count": null,
   "metadata": {},
   "outputs": [],
   "source": [
    "load_dotenv()\n",
    "TOKEN = os.getenv('DISCORD_TOKEN')\n",
    "\n",
    "client = interactions.Client(token=TOKEN)"
   ]
  },
  {
   "cell_type": "markdown",
   "metadata": {},
   "source": [
    "Couple more things to do in this file for now. The first is to trigger an event when the client successfully connects to Discord so we know the connection has been successful."
   ]
  },
  {
   "cell_type": "code",
   "execution_count": null,
   "metadata": {},
   "outputs": [],
   "source": [
    "@client.event\n",
    "async def on_ready():\n",
    "    print(f'Client has connected to Discord!')"
   ]
  },
  {
   "cell_type": "markdown",
   "metadata": {},
   "source": [
    "Finally, we'll actually create the connection.\n",
    "\n",
    "```python\n",
    "client.start()\n",
    "```\n",
    "\n",
    "In order to run our file, we can go down in the terminal and run `py bot.py` to tell the python interpreter to run the code in our `bot.py` file.\n",
    "\n",
    "If you've got everything setup properly you should see the connection message in the console, and the bot user should show as active on your server.\n",
    "\n",
    "![bot user on Discord](images/BotUser.png)"
   ]
  }
 ],
 "metadata": {
  "interpreter": {
   "hash": "c28fc4bee4b0e976eff1c6f65257107218b93a5557fa30eb1ca76397c43fbbaf"
  },
  "kernelspec": {
   "display_name": "Python 3.9.6 ('bot': venv)",
   "language": "python",
   "name": "python3"
  },
  "language_info": {
   "name": "python",
   "version": "3.9.6"
  },
  "orig_nbformat": 4
 },
 "nbformat": 4,
 "nbformat_minor": 2
}
