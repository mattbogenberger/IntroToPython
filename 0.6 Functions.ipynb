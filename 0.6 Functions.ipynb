{
 "cells": [
  {
   "cell_type": "markdown",
   "metadata": {},
   "source": [
    "# Functions\n",
    "\n",
    "Functions are the simplest way to group together a collection of statements in python, as with most languages. This has two main purposes.\n",
    "\n",
    "1. It makes code more readable by grouping together code that accomplishes a specific task\n",
    "2. It allows us to reuse code in different parts of the project.\n",
    "\n",
    "Things like the `print()` function we've already been using are examples of code reuse- we can print stuff to the console as many times as we want without explaining to the python interpreter how to do it.\n",
    "\n",
    "Functions in python are defined using the `def` keyword, and are indented to show what is part of the function. It's a good idea to leave a blank line after the function to keep it visually seperated.\n",
    "\n",
    "The full syntax is: \n",
    "```\n",
    "def <function name>(<arguments>):\n",
    "    # function definition\n",
    "    return true\n",
    "\n",
    "# code that is not part of the function.\n",
    "# to call the function we use the name followed by ()\n",
    "\n",
    "<function name>()\n",
    "```\n",
    "\n",
    "We'll break that down more in a bit, but let's start with a simple function that prints our \"Hello World\" code."
   ]
  },
  {
   "cell_type": "code",
   "execution_count": null,
   "metadata": {},
   "outputs": [],
   "source": [
    "def hello_world():\n",
    "    print(\"Hello world!\")\n",
    "\n",
    "hello_world()"
   ]
  },
  {
   "cell_type": "markdown",
   "metadata": {},
   "source": [
    "If we need to print hello world multiple times this might be okay, but we probably want to make it a bit more flexible. We can do this by passing in an argument. The name of the arguement goes inside the parenthesis and are used inside the function like a variable would be.\n",
    "\n",
    "Generally, the number of arguments in the definition need to match how many we pass to the function, or we'll get an error. There are some ways to get around this, and you can read about them in the docs: [https://docs.python.org/3/tutorial/controlflow.html#defining-functions](https://docs.python.org/3/tutorial/controlflow.html#defining-functions)"
   ]
  },
  {
   "cell_type": "code",
   "execution_count": null,
   "metadata": {},
   "outputs": [],
   "source": [
    "def greeting(name):\n",
    "    print(\"Hello \" + name + \"!\")\n",
    "\n",
    "greeting(\"Panda\")"
   ]
  },
  {
   "cell_type": "markdown",
   "metadata": {},
   "source": [
    "The last important part of a function is the return value. This is an optional value that the function sends back to be used by the code that called the function. It's the last thing that runs in the function even if there is more code in the function. We'll often assign that value to a variable to use later."
   ]
  },
  {
   "cell_type": "code",
   "execution_count": null,
   "metadata": {},
   "outputs": [],
   "source": [
    "def add_numbers(num1, num2):\n",
    "    return num1 + num2\n",
    "    # any code here won't run since we've already used the return statement\n",
    "\n",
    "x = add_numbers(2, 3)\n",
    "print(x)"
   ]
  }
 ],
 "metadata": {
  "interpreter": {
   "hash": "63fd5069d213b44bf678585dea6b12cceca9941eaf7f819626cde1f2670de90d"
  },
  "kernelspec": {
   "display_name": "Python 3.9.6 64-bit",
   "language": "python",
   "name": "python3"
  },
  "language_info": {
   "codemirror_mode": {
    "name": "ipython",
    "version": 3
   },
   "file_extension": ".py",
   "mimetype": "text/x-python",
   "name": "python",
   "nbconvert_exporter": "python",
   "pygments_lexer": "ipython3",
   "version": "3.9.6"
  },
  "orig_nbformat": 4
 },
 "nbformat": 4,
 "nbformat_minor": 2
}
