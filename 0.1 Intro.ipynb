{
 "cells": [
  {
   "cell_type": "markdown",
   "metadata": {},
   "source": [
    "Welcome to Intro to Python!\n",
    "\n"
   ]
  },
  {
   "cell_type": "markdown",
   "metadata": {},
   "source": [
    "If you need to setup your environment, you can check the README.md."
   ]
  },
  {
   "cell_type": "markdown",
   "metadata": {},
   "source": [
    "There is a bit of a coding tradition that the first thing you do with a language is write a script that prints \"Hello world\" to some form of output. In python, this is fairly simple:\n",
    "\n",
    "If you are in an environment that allows you to run the python blocks you can click the run button (to the left of the block if you are in Visual Studio Code (VSC)). If you want to run these online without having python setup on your machine, you can go to [https://mybinder.org/v2/gh/HealthyGamer/IntroToPython/main](https://mybinder.org/v2/gh/HealthyGamer/IntroToPython/main) to open the project there."
   ]
  },
  {
   "cell_type": "code",
   "execution_count": null,
   "metadata": {},
   "outputs": [],
   "source": [
    "print(\"Hello World!\")"
   ]
  },
  {
   "cell_type": "markdown",
   "metadata": {},
   "source": [
    "You can also run it from the terminal or command line in \"interactive mode\". In VSC you can open a terminal by going to the Terminal menu at the top and choosing \"New Terminal\". Once that is open, entering either `py`, `python`, or `python3` depending on your environment will open interactive mode. To leave interactive mode, type ctrl+Z and then hit enter.\n",
    "\n",
    "Interactive mode is useful if you want to quickly check to see what a piece of code will do. For now, just use it to try out the Hello World example."
   ]
  }
 ],
 "metadata": {
  "interpreter": {
   "hash": "63fd5069d213b44bf678585dea6b12cceca9941eaf7f819626cde1f2670de90d"
  },
  "kernelspec": {
   "display_name": "Python 3.9.6 64-bit",
   "language": "python",
   "name": "python3"
  },
  "language_info": {
   "codemirror_mode": {
    "name": "ipython",
    "version": 3
   },
   "file_extension": ".py",
   "mimetype": "text/x-python",
   "name": "python",
   "nbconvert_exporter": "python",
   "pygments_lexer": "ipython3",
   "version": "3.9.6"
  },
  "orig_nbformat": 4
 },
 "nbformat": 4,
 "nbformat_minor": 2
}
