{
 "cells": [
  {
   "cell_type": "markdown",
   "metadata": {},
   "source": [
    "# Control Flow\n",
    "\n",
    "When writing software, there is a specific order we want commands to run, called the control flow. In python there are three ways to control the flow of a program.\n",
    "\n",
    "- Sequential\n",
    "- Selection\n",
    "- Repetition\n",
    "\n",
    "## Sequential\n",
    "\n",
    "This is the most basic way of controlling the order of statements, and the one we've already been moving. It just means that normally statements will be run from top to bottom unless something changes the flow."
   ]
  },
  {
   "cell_type": "code",
   "execution_count": null,
   "metadata": {},
   "outputs": [],
   "source": [
    "print(\"First statement\")\n",
    "print(\"Second statement\")\n",
    "print(\"Third statement\")"
   ]
  },
  {
   "cell_type": "markdown",
   "metadata": {},
   "source": [
    "## Selection\n",
    "\n",
    "Selection flow is the if-else type statements. Basically this means that `if` a statement is true, then we execute the rest of the code in the block. We also have the option of using an `else` block to define what to do if the condition is false. We can also include `elif` to check an additional statement if the previous ones are all false, and nest this logic to create a desicion tree."
   ]
  },
  {
   "cell_type": "code",
   "execution_count": null,
   "metadata": {},
   "outputs": [],
   "source": [
    "x = input(\"Say hello!\")\n",
    "\n",
    "if x == \"hello\":\n",
    "    print(\"Hello to you too!\")\n",
    "else:\n",
    "    print(\"I'm not sure what you said\")\n"
   ]
  },
  {
   "cell_type": "markdown",
   "metadata": {},
   "source": [
    "If you are coming from a language that has `switch` statements, something similar was added in python 3.10 called `match` or pattern matching. These are not particularly common, but can be useful for things like menus where you have quite a few distinct options, and using a lot of `elif` would get messy.\n",
    "\n",
    "```\n",
    "match menu_item:\n",
    "    case \"item 1\":\n",
    "        return 1\n",
    "    case \"item 2\":\n",
    "        return 2\n",
    "    case _:\n",
    "        return \"default case\"\n",
    "```"
   ]
  },
  {
   "cell_type": "markdown",
   "metadata": {},
   "source": [
    "## Repetition\n",
    "\n",
    "Repition allows us to repeat the same code multiple times in a row. This is often used when we need to do things like run some action on each item in a list. There are two loop types in python, `for` and `while`\n",
    "\n",
    "### For loops\n",
    "\n",
    "`for` loops run through each item in a group of data like a list, set, or dictionary. We use a variable to hold the value of the current item in the group so we can act on it."
   ]
  },
  {
   "cell_type": "code",
   "execution_count": null,
   "metadata": {},
   "outputs": [],
   "source": [
    "list = [1,2,3,4]\n",
    "\n",
    "for i in list: \n",
    "    print(i)"
   ]
  },
  {
   "cell_type": "markdown",
   "metadata": {},
   "source": [
    "### While Loops\n",
    "\n",
    "A while loop is essentially a selection statement we run multiple times. We check to see if the condition is true, we run the following code block. Then the condition is checked again, and as long as it continues to evaluate to true, we keep running the code.\n",
    "\n",
    "While loops can be dangerous because you can forget to create a scenario where the condition evaluates to false, and it ends up running until you kill the program. On the flip side, things like games might intentionally use something like `while true:` to create a game loop that runs as long as the game is active."
   ]
  },
  {
   "cell_type": "code",
   "execution_count": null,
   "metadata": {},
   "outputs": [],
   "source": [
    "i = 0\n",
    "\n",
    "while i < 5:\n",
    "    print(i)\n",
    "    i = i + 1"
   ]
  }
 ],
 "metadata": {
  "interpreter": {
   "hash": "63fd5069d213b44bf678585dea6b12cceca9941eaf7f819626cde1f2670de90d"
  },
  "kernelspec": {
   "display_name": "Python 3.9.6 64-bit",
   "language": "python",
   "name": "python3"
  },
  "language_info": {
   "codemirror_mode": {
    "name": "ipython",
    "version": 3
   },
   "file_extension": ".py",
   "mimetype": "text/x-python",
   "name": "python",
   "nbconvert_exporter": "python",
   "pygments_lexer": "ipython3",
   "version": "3.9.6"
  },
  "orig_nbformat": 4
 },
 "nbformat": 4,
 "nbformat_minor": 2
}
