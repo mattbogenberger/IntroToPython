{
 "cells": [
  {
   "cell_type": "markdown",
   "metadata": {},
   "source": [
    "# What Next?\n",
    "\n",
    "There are plenty of things you can do to improve the bot.\n",
    "\n",
    "1. Add a database to persist data\n",
    "2. Add more variety to encounters\n",
    "3. Add leveling and loot"
   ]
  }
 ],
 "metadata": {
  "language_info": {
   "name": "python"
  },
  "orig_nbformat": 4
 },
 "nbformat": 4,
 "nbformat_minor": 2
}
