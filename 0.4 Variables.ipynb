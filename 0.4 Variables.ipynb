{
 "cells": [
  {
   "cell_type": "markdown",
   "metadata": {},
   "source": [
    "# Variables\n",
    "\n",
    "Often times in code we don't know what a value of something will be when we are writting the code, or we want to know what a value is being used for. In order to handle these situations we use variables.\n",
    "\n",
    "A variable is basically a box that holds a value. We can store something in it, use that as if it were that value, or change it. The name has to start with a letter or underscore and can only contain letters, underscores, or numbers.\n",
    "\n",
    "In order to declare a variable in python we just start using it- there is no special syntax."
   ]
  },
  {
   "cell_type": "code",
   "execution_count": null,
   "metadata": {},
   "outputs": [],
   "source": [
    "# declare a vaiable\n",
    "x = \"Hello, world!\"\n",
    "\n",
    "print(x)"
   ]
  },
  {
   "cell_type": "markdown",
   "metadata": {},
   "source": [
    "There are plenty of situations where we need a value we don't yet know, like when we have user input.\n",
    "\n",
    "If you are in VSC the input function will open a task at the top of the window to type in the input\n",
    "\n",
    "![GVSC Input](images/InputData.png)"
   ]
  },
  {
   "cell_type": "code",
   "execution_count": null,
   "metadata": {},
   "outputs": [],
   "source": [
    "x = input(\"Input data\")\n",
    "\n",
    "print(x)"
   ]
  },
  {
   "cell_type": "markdown",
   "metadata": {},
   "source": [
    "While we don't have to set the type of a variable, we can manually do so by passing the variable into a function named the desired type. This can help for things like comparisons where we need the type to match."
   ]
  },
  {
   "cell_type": "code",
   "execution_count": null,
   "metadata": {},
   "outputs": [],
   "source": [
    "x = \"5\"\n",
    "\n",
    "print(int(x) == 5)"
   ]
  }
 ],
 "metadata": {
  "interpreter": {
   "hash": "63fd5069d213b44bf678585dea6b12cceca9941eaf7f819626cde1f2670de90d"
  },
  "kernelspec": {
   "display_name": "Python 3.9.6 64-bit",
   "language": "python",
   "name": "python3"
  },
  "language_info": {
   "codemirror_mode": {
    "name": "ipython",
    "version": 3
   },
   "file_extension": ".py",
   "mimetype": "text/x-python",
   "name": "python",
   "nbconvert_exporter": "python",
   "pygments_lexer": "ipython3",
   "version": "3.9.6"
  },
  "orig_nbformat": 4
 },
 "nbformat": 4,
 "nbformat_minor": 2
}
