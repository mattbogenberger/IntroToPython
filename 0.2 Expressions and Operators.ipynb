{
 "cells": [
  {
   "cell_type": "markdown",
   "metadata": {},
   "source": [
    "# Expressions and Operators\n",
    "\n",
    "In python, an expression is a bit like a sentence- it tells the python interpreter to do something. In the intro, we created an expression that prints \"Hello, World\" to the screen. Expressions can also be things like doing math or comparing values.\n",
    "\n",
    "Remember that you can run the code samples in the notebook, but it is also useful to open up python in interactive mode (`py`, `python`, or `python3` in the terminal) and actually type out the examples yourself."
   ]
  },
  {
   "cell_type": "code",
   "execution_count": null,
   "metadata": {},
   "outputs": [],
   "source": [
    "# Adding two numbers is an expression\n",
    "2 + 2"
   ]
  },
  {
   "cell_type": "code",
   "execution_count": null,
   "metadata": {},
   "outputs": [],
   "source": [
    "# So is making comparisons between two values\n",
    "\n",
    "\"foo\" != \"bar\""
   ]
  },
  {
   "cell_type": "markdown",
   "metadata": {},
   "source": [
    "While you've probably seen the basic mathmatic operators a few times in your life, you may be confused about what `!=` means. In most coding languages, '!' mean not or the opossite. `!=` becomes 'not equals'. Since \"foo\" and \"bar\" aren't the same text, `\"foo\" != \"bar\"` returns true. Equals also is also a bit different than you are used to. `=` by itself has a special purpose we will get to shortly, so to check if two values are the same, we use `==`.\n",
    "\n",
    "You can see a full list of python operators [here](https://python-reference.readthedocs.io/en/latest/docs/operators/). For now, focus on the arithmetic and relational operators.\n",
    "\n",
    "Here are some more examples to try. See if you can guess the result before you run the code. Some of them might be a bit tricky."
   ]
  },
  {
   "cell_type": "code",
   "execution_count": null,
   "metadata": {},
   "outputs": [],
   "source": [
    "3 * (2 + 1)"
   ]
  },
  {
   "cell_type": "code",
   "execution_count": null,
   "metadata": {},
   "outputs": [],
   "source": [
    "# Hint // returns the integral part of division, while % (modulus) returns the remainder\n",
    "(7 // 2) + (5 % 2)"
   ]
  },
  {
   "cell_type": "code",
   "execution_count": null,
   "metadata": {},
   "outputs": [],
   "source": [
    "\n",
    "\"5\" == 5"
   ]
  },
  {
   "cell_type": "code",
   "execution_count": null,
   "metadata": {},
   "outputs": [],
   "source": [
    "\"foo\" > \"bar\""
   ]
  }
 ],
 "metadata": {
  "interpreter": {
   "hash": "63fd5069d213b44bf678585dea6b12cceca9941eaf7f819626cde1f2670de90d"
  },
  "kernelspec": {
   "display_name": "Python 3.9.6 64-bit",
   "language": "python",
   "name": "python3"
  },
  "language_info": {
   "codemirror_mode": {
    "name": "ipython",
    "version": 3
   },
   "file_extension": ".py",
   "mimetype": "text/x-python",
   "name": "python",
   "nbconvert_exporter": "python",
   "pygments_lexer": "ipython3",
   "version": "3.9.6"
  },
  "orig_nbformat": 4
 },
 "nbformat": 4,
 "nbformat_minor": 2
}
